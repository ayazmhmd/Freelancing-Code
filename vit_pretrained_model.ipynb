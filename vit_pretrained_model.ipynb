{
  "metadata": {
    "kaggle": {
      "accelerator": "gpu",
      "dataSources": [
        {
          "sourceId": 9166323,
          "sourceType": "datasetVersion",
          "datasetId": 5415680
        }
      ],
      "dockerImageVersionId": 30747,
      "isInternetEnabled": true,
      "language": "python",
      "sourceType": "notebook",
      "isGpuEnabled": true
    },
    "kernelspec": {
      "display_name": "Python 3",
      "language": "python",
      "name": "python3"
    },
    "language_info": {
      "codemirror_mode": {
        "name": "ipython",
        "version": 3
      },
      "file_extension": ".py",
      "mimetype": "text/x-python",
      "name": "python",
      "nbconvert_exporter": "python",
      "pygments_lexer": "ipython3",
      "version": "3.10.13"
    },
    "colab": {
      "provenance": []
    }
  },
  "nbformat_minor": 0,
  "nbformat": 4,
  "cells": [
    {
      "cell_type": "code",
      "source": [
        "!pip install einops\n",
        "import torch\n",
        "import torch.nn.functional as F\n",
        "from torch import Tensor, nn\n",
        "from torchvision.transforms import Compose, Resize, ToTensor\n",
        "\n",
        "from einops import rearrange, reduce, repeat\n",
        "from einops.layers.torch import Rearrange, Reduce\n",
        "\n",
        "from __future__ import print_function\n",
        "\n",
        "import glob\n",
        "from itertools import chain\n",
        "import os\n",
        "import random\n",
        "import zipfile\n",
        "from PIL import Image\n",
        "import matplotlib.pyplot as plt\n",
        "import numpy as np\n",
        "import pandas as pd\n",
        "import torch.nn as nn\n",
        "import torch.optim as optim\n",
        "from sklearn.model_selection import train_test_split\n",
        "from torch.optim.lr_scheduler import StepLR\n",
        "from torch.utils.data import DataLoader, Dataset\n",
        "from torchvision import datasets, transforms\n",
        "from tqdm.notebook import tqdm"
      ],
      "metadata": {
        "execution": {
          "iopub.status.busy": "2024-08-13T18:17:15.061576Z",
          "iopub.execute_input": "2024-08-13T18:17:15.062318Z",
          "iopub.status.idle": "2024-08-13T18:17:40.054862Z",
          "shell.execute_reply.started": "2024-08-13T18:17:15.062269Z",
          "shell.execute_reply": "2024-08-13T18:17:40.053893Z"
        },
        "trusted": true,
        "colab": {
          "base_uri": "https://localhost:8080/"
        },
        "id": "o6Dm-Dq_Vtae",
        "outputId": "f68c9c3f-b3aa-45f4-dab5-4dea71688d7c"
      },
      "execution_count": null,
      "outputs": [
        {
          "output_type": "stream",
          "name": "stdout",
          "text": [
            "Requirement already satisfied: einops in /usr/local/lib/python3.10/dist-packages (0.8.0)\n"
          ]
        }
      ]
    },
    {
      "cell_type": "code",
      "source": [
        "if torch.cuda.is_available():\n",
        "    device = torch.device('cuda')\n",
        "elif torch.backends.mps.is_available():\n",
        "    device = torch.device('mps')\n",
        "else:\n",
        "    device = torch.device('cpu')\n",
        "\n",
        "device"
      ],
      "metadata": {
        "execution": {
          "iopub.status.busy": "2024-08-13T18:17:40.056923Z",
          "iopub.execute_input": "2024-08-13T18:17:40.057460Z",
          "iopub.status.idle": "2024-08-13T18:17:40.098018Z",
          "shell.execute_reply.started": "2024-08-13T18:17:40.057428Z",
          "shell.execute_reply": "2024-08-13T18:17:40.096926Z"
        },
        "trusted": true,
        "colab": {
          "base_uri": "https://localhost:8080/"
        },
        "id": "313OJvOqVtak",
        "outputId": "3e5598b4-98f0-4233-e124-c627ccec3f0d"
      },
      "execution_count": null,
      "outputs": [
        {
          "output_type": "execute_result",
          "data": {
            "text/plain": [
              "device(type='cpu')"
            ]
          },
          "metadata": {},
          "execution_count": 2
        }
      ]
    },
    {
      "cell_type": "code",
      "source": [
        "from google.colab import drive\n",
        "import os\n",
        "drive.mount('/content/drive')\n",
        "os.chdir('/content/drive/MyDrive/project')"
      ],
      "metadata": {
        "execution": {
          "iopub.status.busy": "2024-08-13T18:17:40.099645Z",
          "iopub.execute_input": "2024-08-13T18:17:40.100032Z",
          "iopub.status.idle": "2024-08-13T18:17:40.114763Z",
          "shell.execute_reply.started": "2024-08-13T18:17:40.100003Z",
          "shell.execute_reply": "2024-08-13T18:17:40.113519Z"
        },
        "trusted": true,
        "colab": {
          "base_uri": "https://localhost:8080/"
        },
        "id": "wiq1g2XYVtal",
        "outputId": "5d9ea6ec-d43a-4eac-c92d-362edb665ae2"
      },
      "execution_count": null,
      "outputs": [
        {
          "output_type": "stream",
          "name": "stdout",
          "text": [
            "Mounted at /content/drive\n"
          ]
        }
      ]
    },
    {
      "cell_type": "code",
      "source": [
        "import os\n",
        "import pandas as pd\n",
        "from PIL import Image\n",
        "from sklearn.utils import shuffle\n",
        "\n",
        "W = 224\n",
        "H = 224\n",
        "root_folder = \"lung-and-colon-cancer-histopathological-images/lung_colon_image_set\"\n",
        "\n",
        "label_to_class = {'colon_aca': 0, 'colon_n': 1, 'lung_aca': 2, 'lung_n': 3, 'lung_scc': 4}\n",
        "\n",
        "data = {'image_path': [], 'label': []}\n",
        "\n",
        "for folder in os.listdir(root_folder):\n",
        "    dataset = os.path.join(root_folder, folder)\n",
        "    for sub_folder in os.listdir(dataset):\n",
        "        img_folder = os.path.join(dataset, sub_folder)\n",
        "        cls = label_to_class.get(sub_folder, -1)\n",
        "        if cls == -1:\n",
        "            continue\n",
        "\n",
        "        for img_name in os.listdir(img_folder):\n",
        "            img_path = os.path.join(img_folder, img_name)\n",
        "            data['image_path'].append(img_path)\n",
        "            data['label'].append(cls)\n",
        "\n",
        "df = pd.DataFrame(data)\n",
        "df = shuffle(df, random_state=0)\n",
        "\n"
      ],
      "metadata": {
        "execution": {
          "iopub.status.busy": "2024-08-13T18:17:40.116438Z",
          "iopub.execute_input": "2024-08-13T18:17:40.117450Z",
          "iopub.status.idle": "2024-08-13T18:17:40.803523Z",
          "shell.execute_reply.started": "2024-08-13T18:17:40.117406Z",
          "shell.execute_reply": "2024-08-13T18:17:40.802329Z"
        },
        "trusted": true,
        "id": "AfOXL5VCVtal"
      },
      "execution_count": null,
      "outputs": []
    },
    {
      "cell_type": "code",
      "source": [
        "from sklearn.model_selection import train_test_split\n",
        "\n",
        "train_df, test_df = train_test_split(df, test_size=0.2, random_state=42)\n",
        "\n",
        "train_images = list(zip(train_df['image_path'], train_df['label']))\n",
        "test_images = list(zip(test_df['image_path'], test_df['label']))\n"
      ],
      "metadata": {
        "execution": {
          "iopub.status.busy": "2024-08-13T18:17:40.806967Z",
          "iopub.execute_input": "2024-08-13T18:17:40.808407Z",
          "iopub.status.idle": "2024-08-13T18:17:40.839115Z",
          "shell.execute_reply.started": "2024-08-13T18:17:40.808332Z",
          "shell.execute_reply": "2024-08-13T18:17:40.837950Z"
        },
        "trusted": true,
        "id": "rpflT7b1Vtam"
      },
      "execution_count": null,
      "outputs": []
    },
    {
      "cell_type": "code",
      "source": [
        "train_df.shape,test_df.shape"
      ],
      "metadata": {
        "execution": {
          "iopub.status.busy": "2024-08-13T18:17:40.840430Z",
          "iopub.execute_input": "2024-08-13T18:17:40.840835Z",
          "iopub.status.idle": "2024-08-13T18:17:40.848938Z",
          "shell.execute_reply.started": "2024-08-13T18:17:40.840804Z",
          "shell.execute_reply": "2024-08-13T18:17:40.847471Z"
        },
        "trusted": true,
        "colab": {
          "base_uri": "https://localhost:8080/"
        },
        "id": "-wqC7hKLVtan",
        "outputId": "4a59ce66-22f1-4c09-8745-394abf3b7129"
      },
      "execution_count": null,
      "outputs": [
        {
          "output_type": "execute_result",
          "data": {
            "text/plain": [
              "((18967, 2), (4742, 2))"
            ]
          },
          "metadata": {},
          "execution_count": 6
        }
      ]
    },
    {
      "cell_type": "code",
      "source": [
        "from torchvision import datasets, transforms\n",
        "data_transforms = {\n",
        "    'train': transforms.Compose([\n",
        "        transforms.Resize((224, 224)),\n",
        "        transforms.RandomHorizontalFlip(),\n",
        "        transforms.ToTensor(),\n",
        "        transforms.Normalize(mean=[0.485, 0.456, 0.406], std=[0.229, 0.224, 0.225]),\n",
        "    ]),\n",
        "    'test': transforms.Compose([\n",
        "        transforms.Resize((224, 224)),\n",
        "        transforms.ToTensor(),\n",
        "        transforms.Normalize(mean=[0.485, 0.456, 0.406], std=[0.229, 0.224, 0.225]),\n",
        "    ]),\n",
        "}\n",
        "\n",
        "\n",
        "class CustomImageDataset(datasets.VisionDataset):\n",
        "    def __init__(self, image_label_pairs, transform=None):\n",
        "        super().__init__(root=\"\", transform=transform)\n",
        "        self.image_paths = [img[0] for img in image_label_pairs]\n",
        "        self.labels = [img[1] for img in image_label_pairs]\n",
        "        self.transform = transform\n",
        "        self.classes = ['colon_aca', 'colon_n', 'lung_aca', 'lung_n', 'lung_scc']\n",
        "\n",
        "    def __len__(self):\n",
        "        return len(self.image_paths)\n",
        "\n",
        "    def __getitem__(self, idx):\n",
        "        img_path = self.image_paths[idx]\n",
        "        image = datasets.folder.default_loader(img_path)\n",
        "\n",
        "        if self.transform:\n",
        "            image = self.transform(image)\n",
        "\n",
        "        label = self.labels[idx]\n",
        "        return image, label\n"
      ],
      "metadata": {
        "execution": {
          "iopub.status.busy": "2024-08-13T18:17:40.850762Z",
          "iopub.execute_input": "2024-08-13T18:17:40.851161Z",
          "iopub.status.idle": "2024-08-13T18:17:40.865761Z",
          "shell.execute_reply.started": "2024-08-13T18:17:40.851116Z",
          "shell.execute_reply": "2024-08-13T18:17:40.864561Z"
        },
        "trusted": true,
        "id": "nP7h7z1vVtan"
      },
      "execution_count": null,
      "outputs": []
    },
    {
      "cell_type": "code",
      "source": [
        "from torch.utils.data import DataLoader\n",
        "\n",
        "\n",
        "image_datasets = {\n",
        "    'train': CustomImageDataset(train_images, transform=data_transforms['train']),\n",
        "    'test': CustomImageDataset(test_images, transform=data_transforms['test'])\n",
        "}\n",
        "\n",
        "dataloaders = {\n",
        "    'train': DataLoader(image_datasets['train'], batch_size=8, shuffle=True, num_workers=4),\n",
        "    'test': DataLoader(image_datasets['test'], batch_size=8, shuffle=False, num_workers=4)\n",
        "}\n",
        "print(f\"Training set size: {len(image_datasets['train'])}\")\n",
        "print(f\"Test set size: {len(image_datasets['test'])}\")\n"
      ],
      "metadata": {
        "execution": {
          "iopub.status.busy": "2024-08-13T18:17:40.867707Z",
          "iopub.execute_input": "2024-08-13T18:17:40.868414Z",
          "iopub.status.idle": "2024-08-13T18:17:40.882902Z",
          "shell.execute_reply.started": "2024-08-13T18:17:40.868383Z",
          "shell.execute_reply": "2024-08-13T18:17:40.881579Z"
        },
        "trusted": true,
        "colab": {
          "base_uri": "https://localhost:8080/"
        },
        "id": "mtxMGT7BVtao",
        "outputId": "9ecebe51-d5d0-4fed-8ae2-fa32864f0c2b"
      },
      "execution_count": null,
      "outputs": [
        {
          "output_type": "stream",
          "name": "stdout",
          "text": [
            "Training set size: 18967\n",
            "Test set size: 4742\n"
          ]
        },
        {
          "output_type": "stream",
          "name": "stderr",
          "text": [
            "/usr/local/lib/python3.10/dist-packages/torch/utils/data/dataloader.py:558: UserWarning: This DataLoader will create 4 worker processes in total. Our suggested max number of worker in current system is 2, which is smaller than what this DataLoader is going to create. Please be aware that excessive worker creation might get DataLoader running slow or even freeze, lower the worker number to avoid potential slowness/freeze if necessary.\n",
            "  warnings.warn(_create_warning_msg(\n"
          ]
        }
      ]
    },
    {
      "cell_type": "code",
      "source": [
        "class_names = image_datasets['train'].classes\n",
        "class_names"
      ],
      "metadata": {
        "execution": {
          "iopub.status.busy": "2024-08-13T18:17:40.884795Z",
          "iopub.execute_input": "2024-08-13T18:17:40.885335Z",
          "iopub.status.idle": "2024-08-13T18:17:40.897361Z",
          "shell.execute_reply.started": "2024-08-13T18:17:40.885303Z",
          "shell.execute_reply": "2024-08-13T18:17:40.896272Z"
        },
        "trusted": true,
        "colab": {
          "base_uri": "https://localhost:8080/"
        },
        "id": "Q81vYiQJVtap",
        "outputId": "42a19588-39cf-427d-9704-e15e3d90309a"
      },
      "execution_count": null,
      "outputs": [
        {
          "output_type": "execute_result",
          "data": {
            "text/plain": [
              "['colon_aca', 'colon_n', 'lung_aca', 'lung_n', 'lung_scc']"
            ]
          },
          "metadata": {},
          "execution_count": 9
        }
      ]
    },
    {
      "cell_type": "code",
      "source": [
        "from transformers import ViTFeatureExtractor, ViTForImageClassification\n",
        "from tqdm import tqdm\n",
        "\n",
        "class CustomViTModel(nn.Module):\n",
        "    def __init__(self, vit_model, num_classes):\n",
        "        super(CustomViTModel, self).__init__()\n",
        "        self.vit = vit_model\n",
        "        self.vit.heads = nn.Identity()\n",
        "\n",
        "        # Add custom layers\n",
        "        self.fc1 = nn.Linear(768, 512)\n",
        "        self.relu = nn.ReLU()\n",
        "        self.fc2 = nn.Linear(512, num_classes)\n",
        "\n",
        "    def forward(self, x):\n",
        "        x = self.vit(x).last_hidden_state[:, 0]\n",
        "        x = self.fc1(x)\n",
        "        x = self.relu(x)\n",
        "        x = self.fc2(x)\n",
        "        return x\n",
        "\n",
        "\n",
        "model_name = \"google/vit-base-patch16-224-in21k\"\n",
        "feature_extractor = ViTFeatureExtractor(model_name)\n",
        "num_classes =5\n",
        "model = ViTForImageClassification.from_pretrained(model_name, num_labels=num_classes)"
      ],
      "metadata": {
        "execution": {
          "iopub.status.busy": "2024-08-13T18:17:40.898938Z",
          "iopub.execute_input": "2024-08-13T18:17:40.899280Z",
          "iopub.status.idle": "2024-08-13T18:17:57.928297Z",
          "shell.execute_reply.started": "2024-08-13T18:17:40.899252Z",
          "shell.execute_reply": "2024-08-13T18:17:57.926929Z"
        },
        "trusted": true,
        "colab": {
          "referenced_widgets": [
            "3dcda2edfa7a426ab51e17e2aa3647aa",
            "685d057bde6843ed8e48e7ea7da24974"
          ]
        },
        "id": "ca3AJ6fHVtap",
        "outputId": "e0562765-bff2-4379-e007-962b1c0976ce"
      },
      "execution_count": null,
      "outputs": [
        {
          "name": "stderr",
          "text": "2024-08-13 18:17:43.345587: E external/local_xla/xla/stream_executor/cuda/cuda_dnn.cc:9261] Unable to register cuDNN factory: Attempting to register factory for plugin cuDNN when one has already been registered\n2024-08-13 18:17:43.345732: E external/local_xla/xla/stream_executor/cuda/cuda_fft.cc:607] Unable to register cuFFT factory: Attempting to register factory for plugin cuFFT when one has already been registered\n2024-08-13 18:17:43.485497: E external/local_xla/xla/stream_executor/cuda/cuda_blas.cc:1515] Unable to register cuBLAS factory: Attempting to register factory for plugin cuBLAS when one has already been registered\n/opt/conda/lib/python3.10/site-packages/transformers/models/vit/feature_extraction_vit.py:28: FutureWarning: The class ViTFeatureExtractor is deprecated and will be removed in version 5 of Transformers. Please use ViTImageProcessor instead.\n  warnings.warn(\n",
          "output_type": "stream"
        },
        {
          "output_type": "display_data",
          "data": {
            "text/plain": "config.json:   0%|          | 0.00/502 [00:00<?, ?B/s]",
            "application/vnd.jupyter.widget-view+json": {
              "version_major": 2,
              "version_minor": 0,
              "model_id": "3dcda2edfa7a426ab51e17e2aa3647aa"
            }
          },
          "metadata": {}
        },
        {
          "output_type": "display_data",
          "data": {
            "text/plain": "model.safetensors:   0%|          | 0.00/346M [00:00<?, ?B/s]",
            "application/vnd.jupyter.widget-view+json": {
              "version_major": 2,
              "version_minor": 0,
              "model_id": "685d057bde6843ed8e48e7ea7da24974"
            }
          },
          "metadata": {}
        },
        {
          "name": "stderr",
          "text": "Some weights of ViTForImageClassification were not initialized from the model checkpoint at google/vit-base-patch16-224-in21k and are newly initialized: ['classifier.bias', 'classifier.weight']\nYou should probably TRAIN this model on a down-stream task to be able to use it for predictions and inference.\n",
          "output_type": "stream"
        }
      ]
    },
    {
      "cell_type": "code",
      "source": [
        "model.to(device)"
      ],
      "metadata": {
        "execution": {
          "iopub.status.busy": "2024-08-13T18:17:57.931063Z",
          "iopub.execute_input": "2024-08-13T18:17:57.932057Z",
          "iopub.status.idle": "2024-08-13T18:17:58.223733Z",
          "shell.execute_reply.started": "2024-08-13T18:17:57.932001Z",
          "shell.execute_reply": "2024-08-13T18:17:58.222493Z"
        },
        "trusted": true,
        "id": "ce1EQIztVtaq",
        "outputId": "5a77087e-dca1-48ac-fbf2-0f74e11eda3e"
      },
      "execution_count": null,
      "outputs": [
        {
          "execution_count": 11,
          "output_type": "execute_result",
          "data": {
            "text/plain": "ViTForImageClassification(\n  (vit): ViTModel(\n    (embeddings): ViTEmbeddings(\n      (patch_embeddings): ViTPatchEmbeddings(\n        (projection): Conv2d(3, 768, kernel_size=(16, 16), stride=(16, 16))\n      )\n      (dropout): Dropout(p=0.0, inplace=False)\n    )\n    (encoder): ViTEncoder(\n      (layer): ModuleList(\n        (0-11): 12 x ViTLayer(\n          (attention): ViTSdpaAttention(\n            (attention): ViTSdpaSelfAttention(\n              (query): Linear(in_features=768, out_features=768, bias=True)\n              (key): Linear(in_features=768, out_features=768, bias=True)\n              (value): Linear(in_features=768, out_features=768, bias=True)\n              (dropout): Dropout(p=0.0, inplace=False)\n            )\n            (output): ViTSelfOutput(\n              (dense): Linear(in_features=768, out_features=768, bias=True)\n              (dropout): Dropout(p=0.0, inplace=False)\n            )\n          )\n          (intermediate): ViTIntermediate(\n            (dense): Linear(in_features=768, out_features=3072, bias=True)\n            (intermediate_act_fn): GELUActivation()\n          )\n          (output): ViTOutput(\n            (dense): Linear(in_features=3072, out_features=768, bias=True)\n            (dropout): Dropout(p=0.0, inplace=False)\n          )\n          (layernorm_before): LayerNorm((768,), eps=1e-12, elementwise_affine=True)\n          (layernorm_after): LayerNorm((768,), eps=1e-12, elementwise_affine=True)\n        )\n      )\n    )\n    (layernorm): LayerNorm((768,), eps=1e-12, elementwise_affine=True)\n  )\n  (classifier): Linear(in_features=768, out_features=5, bias=True)\n)"
          },
          "metadata": {}
        }
      ]
    },
    {
      "cell_type": "code",
      "source": [
        "\n",
        "epochs = 10\n",
        "lr = 0.0001\n",
        "gamma = 0.7\n",
        "# loss function\n",
        "criterion = nn.CrossEntropyLoss()\n",
        "# optimizer\n",
        "optimizer = optim.Adam(model.parameters(), lr=lr)\n",
        "# scheduler\n",
        "scheduler = StepLR(optimizer, step_size=1, gamma=gamma)\n",
        "for epoch in range(epochs):\n",
        "    epoch_loss = 0\n",
        "    epoch_accuracy = 0\n",
        "\n",
        "    for data, label in tqdm(dataloaders['train']):\n",
        "        data = data.to(device)\n",
        "        label = label.to(device)\n",
        "\n",
        "        output = model(data)\n",
        "        loss = criterion(output.logits, label)\n",
        "\n",
        "        optimizer.zero_grad()\n",
        "        loss.backward()\n",
        "        optimizer.step()\n",
        "        outputs=output.logits\n",
        "        acc = (outputs.argmax(dim=1) == label).float().mean()\n",
        "        epoch_accuracy += acc / len(dataloaders['train'])\n",
        "        epoch_loss += loss / len(dataloaders['train'])\n",
        "\n",
        "    with torch.no_grad():\n",
        "        epoch_val_accuracy = 0\n",
        "        epoch_val_loss = 0\n",
        "        for data, label in dataloaders['test']:\n",
        "            data = data.to(device)\n",
        "            label = label.to(device)\n",
        "\n",
        "            val_output = model(data)\n",
        "            val_loss = criterion(val_output.logits, label)\n",
        "            outputs=val_output.logits\n",
        "            acc = (outputs.argmax(dim=1) == label).float().mean()\n",
        "            epoch_val_accuracy += acc / len(dataloaders['test'])\n",
        "            epoch_val_loss += val_loss / len(dataloaders['test'])\n",
        "\n",
        "    print(\n",
        "        f\"Epoch : {epoch+1} - loss : {epoch_loss:.4f} - acc: {epoch_accuracy:.4f} - val_loss : {epoch_val_loss:.4f} - val_acc: {epoch_val_accuracy:.4f}\\n\"\n",
        "    )"
      ],
      "metadata": {
        "execution": {
          "iopub.status.busy": "2024-08-13T18:17:58.225225Z",
          "iopub.execute_input": "2024-08-13T18:17:58.225706Z",
          "iopub.status.idle": "2024-08-13T19:30:27.745839Z",
          "shell.execute_reply.started": "2024-08-13T18:17:58.225665Z",
          "shell.execute_reply": "2024-08-13T19:30:27.744302Z"
        },
        "trusted": true,
        "id": "E8Obb-PYVtaq",
        "outputId": "5044de2c-b6b7-4d72-9468-7c91e34dbfab"
      },
      "execution_count": null,
      "outputs": [
        {
          "name": "stderr",
          "text": "  0%|          | 0/2500 [00:00<?, ?it/s]/opt/conda/lib/python3.10/multiprocessing/popen_fork.py:66: RuntimeWarning: os.fork() was called. os.fork() is incompatible with multithreaded code, and JAX is multithreaded, so this will likely lead to a deadlock.\n  self.pid = os.fork()\n100%|██████████| 2500/2500 [06:43<00:00,  6.22it/s]/opt/conda/lib/python3.10/multiprocessing/popen_fork.py:66: RuntimeWarning: os.fork() was called. os.fork() is incompatible with multithreaded code, and JAX is multithreaded, so this will likely lead to a deadlock.\n  self.pid = os.fork()\n100%|██████████| 2500/2500 [06:43<00:00,  6.19it/s]\n",
          "output_type": "stream"
        },
        {
          "name": "stdout",
          "text": "Epoch : 1 - loss : 0.1129 - acc: 0.9663 - val_loss : 0.0363 - val_acc: 0.9888\n\n",
          "output_type": "stream"
        },
        {
          "name": "stderr",
          "text": "100%|██████████| 2500/2500 [06:42<00:00,  6.21it/s]\n",
          "output_type": "stream"
        },
        {
          "name": "stdout",
          "text": "Epoch : 2 - loss : 0.0401 - acc: 0.9873 - val_loss : 0.1719 - val_acc: 0.9598\n\n",
          "output_type": "stream"
        },
        {
          "name": "stderr",
          "text": "100%|██████████| 2500/2500 [06:42<00:00,  6.21it/s]\n",
          "output_type": "stream"
        },
        {
          "name": "stdout",
          "text": "Epoch : 3 - loss : 0.0395 - acc: 0.9876 - val_loss : 0.0116 - val_acc: 0.9960\n\n",
          "output_type": "stream"
        },
        {
          "name": "stderr",
          "text": "100%|██████████| 2500/2500 [06:42<00:00,  6.21it/s]\n",
          "output_type": "stream"
        },
        {
          "name": "stdout",
          "text": "Epoch : 4 - loss : 0.0292 - acc: 0.9900 - val_loss : 0.0037 - val_acc: 0.9990\n\n",
          "output_type": "stream"
        },
        {
          "name": "stderr",
          "text": "100%|██████████| 2500/2500 [06:42<00:00,  6.21it/s]\n",
          "output_type": "stream"
        },
        {
          "name": "stdout",
          "text": "Epoch : 5 - loss : 0.0224 - acc: 0.9927 - val_loss : 0.0330 - val_acc: 0.9888\n\n",
          "output_type": "stream"
        },
        {
          "name": "stderr",
          "text": "100%|██████████| 2500/2500 [06:42<00:00,  6.21it/s]\n",
          "output_type": "stream"
        },
        {
          "name": "stdout",
          "text": "Epoch : 6 - loss : 0.0221 - acc: 0.9934 - val_loss : 0.0040 - val_acc: 0.9986\n\n",
          "output_type": "stream"
        },
        {
          "name": "stderr",
          "text": "100%|██████████| 2500/2500 [06:42<00:00,  6.21it/s]\n",
          "output_type": "stream"
        },
        {
          "name": "stdout",
          "text": "Epoch : 7 - loss : 0.0164 - acc: 0.9947 - val_loss : 0.0043 - val_acc: 0.9990\n\n",
          "output_type": "stream"
        },
        {
          "name": "stderr",
          "text": "100%|██████████| 2500/2500 [06:42<00:00,  6.21it/s]\n",
          "output_type": "stream"
        },
        {
          "name": "stdout",
          "text": "Epoch : 8 - loss : 0.0195 - acc: 0.9940 - val_loss : 0.0023 - val_acc: 0.9996\n\n",
          "output_type": "stream"
        },
        {
          "name": "stderr",
          "text": "100%|██████████| 2500/2500 [06:42<00:00,  6.21it/s]\n",
          "output_type": "stream"
        },
        {
          "name": "stdout",
          "text": "Epoch : 9 - loss : 0.0153 - acc: 0.9949 - val_loss : 0.0096 - val_acc: 0.9962\n\n",
          "output_type": "stream"
        },
        {
          "name": "stderr",
          "text": "100%|██████████| 2500/2500 [06:42<00:00,  6.22it/s]\n",
          "output_type": "stream"
        },
        {
          "name": "stdout",
          "text": "Epoch : 10 - loss : 0.0159 - acc: 0.9951 - val_loss : 0.0569 - val_acc: 0.9846\n\n",
          "output_type": "stream"
        }
      ]
    },
    {
      "cell_type": "code",
      "source": [
        "import torch\n",
        "from sklearn.metrics import confusion_matrix, classification_report\n",
        "import numpy as np\n",
        "\n",
        "model.eval()\n",
        "\n",
        "all_test_labels = []\n",
        "all_test_preds = []\n",
        "\n",
        "with torch.no_grad():\n",
        "    for data, label in dataloaders['test']:\n",
        "        data = data.to(device)\n",
        "        label = label.to(device)\n",
        "\n",
        "\n",
        "        output = model(data)\n",
        "        output=output.logits\n",
        "        preds = output.argmax(dim=1)\n",
        "\n",
        "        # Collect predictions and true labels\n",
        "        all_test_labels.extend(label.cpu().numpy())\n",
        "        all_test_preds.extend(preds.cpu().numpy())\n",
        "\n",
        "\n",
        "test_labels_np = np.array(all_test_labels)\n",
        "test_preds_np = np.array(all_test_preds)\n",
        "\n"
      ],
      "metadata": {
        "execution": {
          "iopub.status.busy": "2024-08-13T19:59:20.190115Z",
          "iopub.execute_input": "2024-08-13T19:59:20.190576Z",
          "iopub.status.idle": "2024-08-13T19:59:53.835575Z",
          "shell.execute_reply.started": "2024-08-13T19:59:20.190520Z",
          "shell.execute_reply": "2024-08-13T19:59:53.834152Z"
        },
        "trusted": true,
        "id": "0jP5cv-AVtar"
      },
      "execution_count": null,
      "outputs": []
    },
    {
      "cell_type": "code",
      "source": [
        "unique_values, counts = np.unique(test_preds_np, return_counts=True)\n",
        "\n",
        "# Print unique values and their counts\n",
        "print(\"Unique values:\", unique_values)\n",
        "print(\"Counts:\", counts)"
      ],
      "metadata": {
        "execution": {
          "iopub.status.busy": "2024-08-13T19:59:53.837828Z",
          "iopub.execute_input": "2024-08-13T19:59:53.838173Z",
          "iopub.status.idle": "2024-08-13T19:59:53.848119Z",
          "shell.execute_reply.started": "2024-08-13T19:59:53.838141Z",
          "shell.execute_reply": "2024-08-13T19:59:53.847119Z"
        },
        "trusted": true,
        "id": "EQEUs1sQVtas",
        "outputId": "f242a4a7-e362-4f53-f269-f8591d528ae0"
      },
      "execution_count": null,
      "outputs": [
        {
          "name": "stdout",
          "text": "Unique values: [0 1 2 3 4]\nCounts: [1007  998 1022  935 1038]\n",
          "output_type": "stream"
        }
      ]
    },
    {
      "cell_type": "code",
      "source": [
        "class_names=['colon_aca', 'colon_n', 'lung_aca', 'lung_n', 'lung_scc']"
      ],
      "metadata": {
        "execution": {
          "iopub.status.busy": "2024-08-13T19:59:53.849529Z",
          "iopub.execute_input": "2024-08-13T19:59:53.849927Z",
          "iopub.status.idle": "2024-08-13T19:59:53.855646Z",
          "shell.execute_reply.started": "2024-08-13T19:59:53.849889Z",
          "shell.execute_reply": "2024-08-13T19:59:53.854586Z"
        },
        "trusted": true,
        "id": "LCyqPzEBVtas"
      },
      "execution_count": null,
      "outputs": []
    },
    {
      "cell_type": "code",
      "source": [
        "import numpy as np\n",
        "import seaborn as sns\n",
        "import matplotlib.pyplot as plt\n",
        "from sklearn.metrics import confusion_matrix\n",
        "\n",
        "\n",
        "class_names = ['colon_aca', 'colon_n', 'lung_aca', 'lung_n', 'lung_scc']\n",
        "\n",
        "label_mapping = {i: name for i, name in enumerate(class_names)}\n",
        "\n",
        "test_labels_str = np.array([label_mapping[label] for label in test_labels_np])\n",
        "test_preds_str = np.array([label_mapping[label] for label in test_preds_np])\n",
        "\n",
        "test_confusion_matrix = confusion_matrix(test_labels_str, test_preds_str, labels=class_names)\n",
        "\n",
        "plt.figure(figsize=(10, 7))\n",
        "sns.heatmap(test_confusion_matrix, annot=True, fmt='d', cmap='Blues', xticklabels=class_names, yticklabels=class_names)\n",
        "plt.xlabel('Predicted Labels')\n",
        "plt.ylabel('True Labels')\n",
        "plt.title('Confusion Matrix Heatmap')\n",
        "plt.show()\n"
      ],
      "metadata": {
        "execution": {
          "iopub.status.busy": "2024-08-13T19:59:53.858032Z",
          "iopub.execute_input": "2024-08-13T19:59:53.859525Z",
          "iopub.status.idle": "2024-08-13T19:59:54.585279Z",
          "shell.execute_reply.started": "2024-08-13T19:59:53.859497Z",
          "shell.execute_reply": "2024-08-13T19:59:54.584133Z"
        },
        "trusted": true,
        "id": "4h-5yhlAVtat",
        "outputId": "279ef556-3af4-4cbc-c6b1-629dfd384751"
      },
      "execution_count": null,
      "outputs": [
        {
          "output_type": "display_data",
          "data": {
            "text/plain": "<Figure size 1000x700 with 2 Axes>",
            "image/png": "[encoded data removed]"
          },
          "metadata": {}
        }
      ]
    },
    {
      "cell_type": "code",
      "source": [
        "class_report = classification_report(test_labels_str, test_preds_str, target_names=class_names)\n",
        "print(\"Classification Report:\")\n",
        "print(class_report)"
      ],
      "metadata": {
        "execution": {
          "iopub.status.busy": "2024-08-13T19:59:54.586791Z",
          "iopub.execute_input": "2024-08-13T19:59:54.587135Z",
          "iopub.status.idle": "2024-08-13T19:59:54.681149Z",
          "shell.execute_reply.started": "2024-08-13T19:59:54.587102Z",
          "shell.execute_reply": "2024-08-13T19:59:54.680016Z"
        },
        "trusted": true,
        "id": "U1kvt8byVtax",
        "outputId": "533dd133-559a-4831-f689-a238d7141111"
      },
      "execution_count": null,
      "outputs": [
        {
          "name": "stdout",
          "text": "Classification Report:\n              precision    recall  f1-score   support\n\n   colon_aca       1.00      1.00      1.00      1008\n     colon_n       1.00      1.00      1.00       997\n    lung_aca       0.95      0.98      0.96       992\n      lung_n       1.00      0.95      0.97       988\n    lung_scc       0.98      1.00      0.99      1015\n\n    accuracy                           0.98      5000\n   macro avg       0.98      0.98      0.98      5000\nweighted avg       0.99      0.98      0.98      5000\n\n",
          "output_type": "stream"
        }
      ]
    },
    {
      "cell_type": "code",
      "source": [
        "import torch\n",
        "\n",
        "torch.save(model.state_dict(), 'pretrained_model_weights.pth')\n",
        "torch.save(model, 'pretrained_full_model.pth')"
      ],
      "metadata": {
        "execution": {
          "iopub.status.busy": "2024-08-13T20:00:43.194261Z",
          "iopub.execute_input": "2024-08-13T20:00:43.194763Z",
          "iopub.status.idle": "2024-08-13T20:00:44.267364Z",
          "shell.execute_reply.started": "2024-08-13T20:00:43.194727Z",
          "shell.execute_reply": "2024-08-13T20:00:44.266435Z"
        },
        "trusted": true,
        "id": "frlLj4R8Vtax"
      },
      "execution_count": null,
      "outputs": []
    }
  ]
}