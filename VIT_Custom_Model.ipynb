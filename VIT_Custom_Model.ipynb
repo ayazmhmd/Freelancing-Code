{
  "metadata": {
    "kernelspec": {
      "language": "python",
      "display_name": "Python 3",
      "name": "python3"
    },
    "language_info": {
      "name": "python",
      "version": "3.10.13",
      "mimetype": "text/x-python",
      "codemirror_mode": {
        "name": "ipython",
        "version": 3
      },
      "pygments_lexer": "ipython3",
      "nbconvert_exporter": "python",
      "file_extension": ".py"
    },
    "kaggle": {
      "accelerator": "gpu",
      "dataSources": [
        {
          "sourceId": 8991462,
          "sourceType": "datasetVersion",
          "datasetId": 5415680
        }
      ],
      "dockerImageVersionId": 30747,
      "isInternetEnabled": true,
      "language": "python",
      "sourceType": "notebook",
      "isGpuEnabled": true
    },
    "colab": {
      "provenance": []
    }
  },
  "nbformat_minor": 0,
  "nbformat": 4,
  "cells": [
    {
      "cell_type": "code",
      "source": [
        "!pip install einops\n",
        "import torch\n",
        "import torch.nn.functional as F\n",
        "from torch import Tensor, nn\n",
        "from torchvision.transforms import Compose, Resize, ToTensor\n",
        "\n",
        "from einops import rearrange, reduce, repeat\n",
        "from einops.layers.torch import Rearrange, Reduce\n",
        "\n",
        "from __future__ import print_function\n",
        "\n",
        "import glob\n",
        "from itertools import chain\n",
        "import os\n",
        "import random\n",
        "import zipfile\n",
        "from PIL import Image\n",
        "import matplotlib.pyplot as plt\n",
        "import numpy as np\n",
        "import pandas as pd\n",
        "import torch.nn as nn\n",
        "import torch.optim as optim\n",
        "from sklearn.model_selection import train_test_split\n",
        "from torch.optim.lr_scheduler import StepLR\n",
        "from torch.utils.data import DataLoader, Dataset\n",
        "from torchvision import datasets, transforms\n",
        "from tqdm.notebook import tqdm"
      ],
      "metadata": {
        "_uuid": "8f2839f25d086af736a60e9eeb907d3b93b6e0e5",
        "_cell_guid": "b1076dfc-b9ad-4769-8c92-a6c4dae69d19",
        "execution": {
          "iopub.status.busy": "2024-08-12T09:11:41.149389Z",
          "iopub.execute_input": "2024-08-12T09:11:41.149809Z",
          "iopub.status.idle": "2024-08-12T09:12:00.933683Z",
          "shell.execute_reply.started": "2024-08-12T09:11:41.149772Z",
          "shell.execute_reply": "2024-08-12T09:12:00.932910Z"
        },
        "trusted": true,
        "colab": {
          "base_uri": "https://localhost:8080/"
        },
        "id": "sEwmOQdSPmi1",
        "outputId": "63d6f871-712f-450a-f4e7-2609944f0e3a"
      },
      "execution_count": null,
      "outputs": [
        {
          "output_type": "stream",
          "name": "stdout",
          "text": [
            "Requirement already satisfied: einops in /usr/local/lib/python3.10/dist-packages (0.8.0)\n"
          ]
        }
      ]
    },
    {
      "cell_type": "code",
      "source": [
        "from google.colab import drive\n",
        "drive.mount('/content/drive')"
      ],
      "metadata": {
        "colab": {
          "base_uri": "https://localhost:8080/"
        },
        "id": "C-7bkn0cPppJ",
        "outputId": "111aa07e-7909-469b-fb60-fb3118810472"
      },
      "execution_count": null,
      "outputs": [
        {
          "output_type": "stream",
          "name": "stdout",
          "text": [
            "Mounted at /content/drive\n"
          ]
        }
      ]
    },
    {
      "cell_type": "code",
      "source": [
        "import os\n",
        "os.chdir('/content/drive/MyDrive/project')"
      ],
      "metadata": {
        "id": "dHmpUlskPqn1"
      },
      "execution_count": null,
      "outputs": []
    },
    {
      "cell_type": "code",
      "source": [
        "if torch.cuda.is_available():\n",
        "    device = torch.device('cuda')\n",
        "elif torch.backends.mps.is_available():\n",
        "    device = torch.device('mps')\n",
        "else:\n",
        "    device = torch.device('cpu')\n",
        "\n",
        "device"
      ],
      "metadata": {
        "execution": {
          "iopub.status.busy": "2024-08-12T09:12:00.935211Z",
          "iopub.execute_input": "2024-08-12T09:12:00.935642Z",
          "iopub.status.idle": "2024-08-12T09:12:00.976031Z",
          "shell.execute_reply.started": "2024-08-12T09:12:00.935616Z",
          "shell.execute_reply": "2024-08-12T09:12:00.975064Z"
        },
        "trusted": true,
        "id": "gZ38dqK9Pmi3",
        "outputId": "1c09e5e9-f4ec-4375-a1dd-3211a88b5a21"
      },
      "execution_count": null,
      "outputs": [
        {
          "execution_count": 2,
          "output_type": "execute_result",
          "data": {
            "text/plain": "device(type='cuda')"
          },
          "metadata": {}
        }
      ]
    },
    {
      "cell_type": "code",
      "source": [
        "import os\n",
        "import pandas as pd\n",
        "from PIL import Image\n",
        "from sklearn.utils import shuffle\n",
        "\n",
        "W = 224\n",
        "H = 224\n",
        "root_folder = \"lung-and-colon-cancer-histopathological-images/lung_colon_image_set\"\n",
        "\n",
        "label_to_class = {'colon_aca': 0, 'colon_n': 1, 'lung_aca': 2, 'lung_n': 3, 'lung_scc': 4}\n",
        "\n",
        "data = {'image_path': [], 'label': []}\n",
        "\n",
        "for folder in os.listdir(root_folder):\n",
        "    dataset = os.path.join(root_folder, folder)\n",
        "    for sub_folder in os.listdir(dataset):\n",
        "        img_folder = os.path.join(dataset, sub_folder)\n",
        "        cls = label_to_class.get(sub_folder, -1)\n",
        "        if cls == -1:\n",
        "            continue\n",
        "\n",
        "        for img_name in os.listdir(img_folder):\n",
        "            img_path = os.path.join(img_folder, img_name)\n",
        "            data['image_path'].append(img_path)\n",
        "            data['label'].append(cls)\n",
        "\n",
        "df = pd.DataFrame(data)\n",
        "df = shuffle(df, random_state=0)\n",
        "\n"
      ],
      "metadata": {
        "execution": {
          "iopub.status.busy": "2024-08-12T09:12:00.976915Z",
          "iopub.execute_input": "2024-08-12T09:12:00.977176Z",
          "iopub.status.idle": "2024-08-12T09:12:02.257643Z",
          "shell.execute_reply.started": "2024-08-12T09:12:00.977152Z",
          "shell.execute_reply": "2024-08-12T09:12:02.256774Z"
        },
        "trusted": true,
        "id": "5zAgajpXPmi4"
      },
      "execution_count": null,
      "outputs": []
    },
    {
      "cell_type": "code",
      "source": [
        "from sklearn.model_selection import train_test_split\n",
        "\n",
        "train_df, test_df = train_test_split(df, test_size=0.2, random_state=42)\n",
        "\n",
        "train_images = list(zip(train_df['image_path'], train_df['label']))\n",
        "test_images = list(zip(test_df['image_path'], test_df['label']))\n"
      ],
      "metadata": {
        "execution": {
          "iopub.status.busy": "2024-08-12T09:12:02.260028Z",
          "iopub.execute_input": "2024-08-12T09:12:02.260335Z",
          "iopub.status.idle": "2024-08-12T09:12:02.281242Z",
          "shell.execute_reply.started": "2024-08-12T09:12:02.260308Z",
          "shell.execute_reply": "2024-08-12T09:12:02.280510Z"
        },
        "trusted": true,
        "id": "7xxHc-QrPmi4"
      },
      "execution_count": null,
      "outputs": []
    },
    {
      "cell_type": "code",
      "source": [
        "train_df.shape"
      ],
      "metadata": {
        "execution": {
          "iopub.status.busy": "2024-08-12T09:12:02.282208Z",
          "iopub.execute_input": "2024-08-12T09:12:02.282482Z",
          "iopub.status.idle": "2024-08-12T09:12:02.288256Z",
          "shell.execute_reply.started": "2024-08-12T09:12:02.282458Z",
          "shell.execute_reply": "2024-08-12T09:12:02.287345Z"
        },
        "trusted": true,
        "colab": {
          "base_uri": "https://localhost:8080/"
        },
        "id": "6vUGnbmFPmi4",
        "outputId": "77f6351b-c0ba-425a-e92e-60c43bc75c75"
      },
      "execution_count": null,
      "outputs": [
        {
          "output_type": "execute_result",
          "data": {
            "text/plain": [
              "(18967, 2)"
            ]
          },
          "metadata": {},
          "execution_count": 6
        }
      ]
    },
    {
      "cell_type": "code",
      "source": [
        "test_df.shape"
      ],
      "metadata": {
        "execution": {
          "iopub.status.busy": "2024-08-12T09:12:02.289426Z",
          "iopub.execute_input": "2024-08-12T09:12:02.289837Z",
          "iopub.status.idle": "2024-08-12T09:12:02.298069Z",
          "shell.execute_reply.started": "2024-08-12T09:12:02.289806Z",
          "shell.execute_reply": "2024-08-12T09:12:02.297215Z"
        },
        "trusted": true,
        "colab": {
          "base_uri": "https://localhost:8080/"
        },
        "id": "7mEFo75_Pmi5",
        "outputId": "93349969-7f78-4635-fa46-684299dc1c15"
      },
      "execution_count": null,
      "outputs": [
        {
          "output_type": "execute_result",
          "data": {
            "text/plain": [
              "(4742, 2)"
            ]
          },
          "metadata": {},
          "execution_count": 7
        }
      ]
    },
    {
      "cell_type": "code",
      "source": [
        "data_transforms = {\n",
        "    'train': transforms.Compose([\n",
        "        transforms.Resize((224, 224)),\n",
        "        transforms.RandomHorizontalFlip(),\n",
        "        transforms.ToTensor(),\n",
        "        transforms.Normalize(mean=[0.485, 0.456, 0.406], std=[0.229, 0.224, 0.225]),\n",
        "    ]),\n",
        "    'test': transforms.Compose([\n",
        "        transforms.Resize((224, 224)),\n",
        "        transforms.ToTensor(),\n",
        "        transforms.Normalize(mean=[0.485, 0.456, 0.406], std=[0.229, 0.224, 0.225]),\n",
        "    ]),\n",
        "}\n"
      ],
      "metadata": {
        "execution": {
          "iopub.status.busy": "2024-08-12T09:12:02.299079Z",
          "iopub.execute_input": "2024-08-12T09:12:02.299372Z",
          "iopub.status.idle": "2024-08-12T09:12:02.307608Z",
          "shell.execute_reply.started": "2024-08-12T09:12:02.299348Z",
          "shell.execute_reply": "2024-08-12T09:12:02.306645Z"
        },
        "trusted": true,
        "id": "vBRPLlwcPmi5"
      },
      "execution_count": null,
      "outputs": []
    },
    {
      "cell_type": "code",
      "source": [
        "from torchvision import datasets, transforms\n",
        "\n",
        "class CustomImageDataset(datasets.VisionDataset):\n",
        "    def __init__(self, image_label_pairs, transform=None):\n",
        "        super().__init__(root=\"\", transform=transform)\n",
        "        self.image_paths = [img[0] for img in image_label_pairs]\n",
        "        self.labels = [img[1] for img in image_label_pairs]\n",
        "        self.transform = transform\n",
        "        self.classes = ['colon_aca', 'colon_n', 'lung_aca', 'lung_n', 'lung_scc']\n",
        "\n",
        "    def __len__(self):\n",
        "        return len(self.image_paths)\n",
        "\n",
        "    def __getitem__(self, idx):\n",
        "        img_path = self.image_paths[idx]\n",
        "        image = datasets.folder.default_loader(img_path)\n",
        "\n",
        "        if self.transform:\n",
        "            image = self.transform(image)\n",
        "\n",
        "        label = self.labels[idx]\n",
        "        return image, label\n"
      ],
      "metadata": {
        "execution": {
          "iopub.status.busy": "2024-08-12T09:12:02.308543Z",
          "iopub.execute_input": "2024-08-12T09:12:02.308780Z",
          "iopub.status.idle": "2024-08-12T09:12:02.318160Z",
          "shell.execute_reply.started": "2024-08-12T09:12:02.308759Z",
          "shell.execute_reply": "2024-08-12T09:12:02.317124Z"
        },
        "trusted": true,
        "id": "vWpVksYHPmi5"
      },
      "execution_count": null,
      "outputs": []
    },
    {
      "cell_type": "code",
      "source": [
        "from torch.utils.data import DataLoader\n",
        "\n",
        "\n",
        "image_datasets = {\n",
        "    'train': CustomImageDataset(train_images, transform=data_transforms['train']),\n",
        "    'test': CustomImageDataset(test_images, transform=data_transforms['test'])\n",
        "}\n",
        "\n",
        "dataloaders = {\n",
        "    'train': DataLoader(image_datasets['train'], batch_size=8, shuffle=True, num_workers=4),\n",
        "    'test': DataLoader(image_datasets['test'], batch_size=8, shuffle=False, num_workers=4)\n",
        "}\n",
        "print(f\"Training set size: {len(image_datasets['train'])}\")\n",
        "print(f\"Test set size: {len(image_datasets['test'])}\")\n"
      ],
      "metadata": {
        "execution": {
          "iopub.status.busy": "2024-08-12T09:12:02.319222Z",
          "iopub.execute_input": "2024-08-12T09:12:02.319475Z",
          "iopub.status.idle": "2024-08-12T09:12:02.332893Z",
          "shell.execute_reply.started": "2024-08-12T09:12:02.319453Z",
          "shell.execute_reply": "2024-08-12T09:12:02.332025Z"
        },
        "trusted": true,
        "colab": {
          "base_uri": "https://localhost:8080/"
        },
        "id": "Sgmmrd0KPmi5",
        "outputId": "025eb453-4c11-4a20-a81e-2160f125ead5"
      },
      "execution_count": null,
      "outputs": [
        {
          "output_type": "stream",
          "name": "stdout",
          "text": [
            "Training set size: 18967\n",
            "Test set size: 4742\n"
          ]
        },
        {
          "output_type": "stream",
          "name": "stderr",
          "text": [
            "/usr/local/lib/python3.10/dist-packages/torch/utils/data/dataloader.py:558: UserWarning: This DataLoader will create 4 worker processes in total. Our suggested max number of worker in current system is 2, which is smaller than what this DataLoader is going to create. Please be aware that excessive worker creation might get DataLoader running slow or even freeze, lower the worker number to avoid potential slowness/freeze if necessary.\n",
            "  warnings.warn(_create_warning_msg(\n"
          ]
        }
      ]
    },
    {
      "cell_type": "code",
      "source": [
        "class_names = image_datasets['train'].classes\n",
        "class_names"
      ],
      "metadata": {
        "execution": {
          "iopub.status.busy": "2024-08-12T09:12:02.336229Z",
          "iopub.execute_input": "2024-08-12T09:12:02.336502Z",
          "iopub.status.idle": "2024-08-12T09:12:02.349779Z",
          "shell.execute_reply.started": "2024-08-12T09:12:02.336479Z",
          "shell.execute_reply": "2024-08-12T09:12:02.348873Z"
        },
        "trusted": true,
        "id": "_VWJo_4APmi6",
        "outputId": "a4009804-e180-4073-803a-0c2a17b82f2f"
      },
      "execution_count": null,
      "outputs": [
        {
          "execution_count": 10,
          "output_type": "execute_result",
          "data": {
            "text/plain": "['colon_aca', 'colon_n', 'lung_aca', 'lung_n', 'lung_scc']"
          },
          "metadata": {}
        }
      ]
    },
    {
      "cell_type": "code",
      "source": [
        "class PatchEmbedding(nn.Module):\n",
        "    def __init__(self, in_channels: int = 3, patch_size: int = 16, emb_size: int = 768, img_size: int = 224):\n",
        "        self.patch_size = patch_size\n",
        "        super().__init__()\n",
        "        self.projection = nn.Sequential(\n",
        "            nn.Conv2d(in_channels, emb_size, kernel_size=patch_size, stride=patch_size),\n",
        "            Rearrange('b e (h) (w) -> b (h w) e'),\n",
        "        ) # this breaks down the image in s1xs2 patches, and then flat them\n",
        "\n",
        "        self.cls_token = nn.Parameter(torch.randn(1,1, emb_size))\n",
        "        self.positions = nn.Parameter(torch.randn((img_size // patch_size) **2 + 1, emb_size))\n",
        "\n",
        "\n",
        "    def forward(self, x: Tensor) -> Tensor:\n",
        "        b, _, _, _ = x.shape\n",
        "        x = self.projection(x)\n",
        "        cls_tokens = repeat(self.cls_token, '() n e -> b n e', b=b)\n",
        "        x = torch.cat([cls_tokens, x], dim=1) #prepending the cls token\n",
        "        x += self.positions\n",
        "        return x"
      ],
      "metadata": {
        "execution": {
          "iopub.status.busy": "2024-08-12T09:12:02.350934Z",
          "iopub.execute_input": "2024-08-12T09:12:02.351271Z",
          "iopub.status.idle": "2024-08-12T09:12:02.360498Z",
          "shell.execute_reply.started": "2024-08-12T09:12:02.351240Z",
          "shell.execute_reply": "2024-08-12T09:12:02.359670Z"
        },
        "trusted": true,
        "id": "N1rqlNZRPmi6"
      },
      "execution_count": null,
      "outputs": []
    },
    {
      "cell_type": "code",
      "source": [
        "class MultiHeadAttention(nn.Module):\n",
        "    def __init__(self, emb_size: int = 768, num_heads: int = 8, dropout: float = 0):\n",
        "        super().__init__()\n",
        "        self.emb_size = emb_size\n",
        "        self.num_heads = num_heads\n",
        "        self.qkv = nn.Linear(emb_size, emb_size * 3)\n",
        "        self.att_drop = nn.Dropout(dropout)\n",
        "        self.projection = nn.Linear(emb_size, emb_size)\n",
        "\n",
        "    def forward(self, x : Tensor, mask: Tensor = None) -> Tensor:\n",
        "        qkv = rearrange(self.qkv(x), \"b n (h d qkv) -> (qkv) b h n d\", h=self.num_heads, qkv=3)\n",
        "        queries, keys, values = qkv[0], qkv[1], qkv[2]\n",
        "        energy = torch.einsum('bhqd, bhkd -> bhqk', queries, keys) # batch, num_heads, query_len, key_len\n",
        "\n",
        "        if mask is not None:\n",
        "            fill_value = torch.finfo(torch.float32).min\n",
        "            energy.mask_fill(~mask, fill_value)\n",
        "\n",
        "        scaling = self.emb_size ** (1/2)\n",
        "\n",
        "        att = F.softmax(energy, dim=-1) / scaling\n",
        "        att = self.att_drop(att)\n",
        "        out = torch.einsum('bhal, bhlv -> bhav ', att, values)\n",
        "        out = rearrange(out, \"b h n d -> b n (h d)\")\n",
        "        out = self.projection(out)\n",
        "\n",
        "        return out"
      ],
      "metadata": {
        "execution": {
          "iopub.status.busy": "2024-08-12T09:12:02.361788Z",
          "iopub.execute_input": "2024-08-12T09:12:02.362131Z",
          "iopub.status.idle": "2024-08-12T09:12:02.372076Z",
          "shell.execute_reply.started": "2024-08-12T09:12:02.362101Z",
          "shell.execute_reply": "2024-08-12T09:12:02.371260Z"
        },
        "trusted": true,
        "id": "Jtdy-PmePmi6"
      },
      "execution_count": null,
      "outputs": []
    },
    {
      "cell_type": "code",
      "source": [
        "class ResidualAdd(nn.Module):\n",
        "    def __init__(self, fn):\n",
        "        super().__init__()\n",
        "        self.fn = fn\n",
        "\n",
        "    def forward(self, x, **kwargs):\n",
        "        res = x\n",
        "        x = self.fn(x, **kwargs)\n",
        "        x += res\n",
        "        return x"
      ],
      "metadata": {
        "execution": {
          "iopub.status.busy": "2024-08-12T09:12:02.373370Z",
          "iopub.execute_input": "2024-08-12T09:12:02.373637Z",
          "iopub.status.idle": "2024-08-12T09:12:02.385330Z",
          "shell.execute_reply.started": "2024-08-12T09:12:02.373611Z",
          "shell.execute_reply": "2024-08-12T09:12:02.384466Z"
        },
        "trusted": true,
        "id": "w99kECcNPmi7"
      },
      "execution_count": null,
      "outputs": []
    },
    {
      "cell_type": "code",
      "source": [
        "class FeedForwardBlock(nn.Sequential):\n",
        "    def __init__(self, emb_size: int, L: int = 4, drop_p: float = 0.):\n",
        "        super().__init__(\n",
        "            nn.Linear(emb_size, L * emb_size),\n",
        "            nn.GELU(),\n",
        "            nn.Dropout(drop_p),\n",
        "            nn.Linear(L * emb_size, emb_size),\n",
        "        )"
      ],
      "metadata": {
        "execution": {
          "iopub.status.busy": "2024-08-12T09:12:02.386384Z",
          "iopub.execute_input": "2024-08-12T09:12:02.386720Z",
          "iopub.status.idle": "2024-08-12T09:12:02.395124Z",
          "shell.execute_reply.started": "2024-08-12T09:12:02.386689Z",
          "shell.execute_reply": "2024-08-12T09:12:02.394242Z"
        },
        "trusted": true,
        "id": "71dElLfgPmi7"
      },
      "execution_count": null,
      "outputs": []
    },
    {
      "cell_type": "code",
      "source": [
        "class TransformerEncoderBlock(nn.Sequential):\n",
        "    def __init__(self, emb_size: int = 768, drop_p: float = 0., forward_expansion: int = 4,\n",
        "                 forward_drop_p: float = 0.,\n",
        "                 **kwargs):\n",
        "\n",
        "        super().__init__(\n",
        "            ResidualAdd(nn.Sequential(\n",
        "                nn.LayerNorm(emb_size),\n",
        "                MultiHeadAttention(emb_size, **kwargs),\n",
        "                nn.Dropout(drop_p)\n",
        "            )),\n",
        "            ResidualAdd(nn.Sequential(\n",
        "                nn.LayerNorm(emb_size),\n",
        "                FeedForwardBlock(\n",
        "                    emb_size, L=forward_expansion, drop_p=forward_drop_p),\n",
        "                nn.Dropout(drop_p)\n",
        "            )\n",
        "            ))"
      ],
      "metadata": {
        "execution": {
          "iopub.status.busy": "2024-08-12T09:12:02.396191Z",
          "iopub.execute_input": "2024-08-12T09:12:02.396528Z",
          "iopub.status.idle": "2024-08-12T09:12:02.405276Z",
          "shell.execute_reply.started": "2024-08-12T09:12:02.396496Z",
          "shell.execute_reply": "2024-08-12T09:12:02.404492Z"
        },
        "trusted": true,
        "id": "exYDkml2Pmi7"
      },
      "execution_count": null,
      "outputs": []
    },
    {
      "cell_type": "code",
      "source": [
        "class TransformerEncoder(nn.Sequential):\n",
        "    def __init__(self, depth: int = 12, **kwargs):\n",
        "        super().__init__(*[TransformerEncoderBlock(**kwargs) for _ in range(depth)])"
      ],
      "metadata": {
        "execution": {
          "iopub.status.busy": "2024-08-12T09:12:02.406248Z",
          "iopub.execute_input": "2024-08-12T09:12:02.406548Z",
          "iopub.status.idle": "2024-08-12T09:12:02.418161Z",
          "shell.execute_reply.started": "2024-08-12T09:12:02.406524Z",
          "shell.execute_reply": "2024-08-12T09:12:02.417359Z"
        },
        "trusted": true,
        "id": "pi66ncP7Pmi7"
      },
      "execution_count": null,
      "outputs": []
    },
    {
      "cell_type": "code",
      "source": [
        "class ClassificationHead(nn.Sequential):\n",
        "    def __init__(self, emb_size: int = 768, n_classes: int = 1000):\n",
        "        super().__init__(\n",
        "            Reduce('b n e -> b e', reduction='mean'),\n",
        "            nn.LayerNorm(emb_size),\n",
        "            nn.Linear(emb_size, len(class_names)))"
      ],
      "metadata": {
        "execution": {
          "iopub.status.busy": "2024-08-12T09:12:02.419098Z",
          "iopub.execute_input": "2024-08-12T09:12:02.419761Z",
          "iopub.status.idle": "2024-08-12T09:12:02.428464Z",
          "shell.execute_reply.started": "2024-08-12T09:12:02.419736Z",
          "shell.execute_reply": "2024-08-12T09:12:02.427715Z"
        },
        "trusted": true,
        "id": "zUDPFzcpPmi7"
      },
      "execution_count": null,
      "outputs": []
    },
    {
      "cell_type": "code",
      "source": [
        "class ViT(nn.Sequential):\n",
        "    def __init__(self,\n",
        "                in_channels: int = 3,\n",
        "                patch_size: int = 32,\n",
        "                emb_size: int = 128,\n",
        "                img_size: int = 224,\n",
        "                depth: int = 12,\n",
        "                n_classes: int = len(class_names),\n",
        "                **kwargs):\n",
        "        super().__init__(\n",
        "            PatchEmbedding(in_channels, patch_size, emb_size, img_size),\n",
        "            TransformerEncoder(depth, emb_size=emb_size, **kwargs),\n",
        "            ClassificationHead(emb_size, n_classes)\n",
        "        )"
      ],
      "metadata": {
        "execution": {
          "iopub.status.busy": "2024-08-12T09:12:02.430526Z",
          "iopub.execute_input": "2024-08-12T09:12:02.431156Z",
          "iopub.status.idle": "2024-08-12T09:12:02.438422Z",
          "shell.execute_reply.started": "2024-08-12T09:12:02.431125Z",
          "shell.execute_reply": "2024-08-12T09:12:02.437660Z"
        },
        "trusted": true,
        "id": "6j0VwDTpPmi7"
      },
      "execution_count": null,
      "outputs": []
    },
    {
      "cell_type": "code",
      "source": [
        "model = ViT(in_channels = 3,\n",
        "                patch_size = 16,\n",
        "                emb_size = 768,\n",
        "                img_size  = 224,\n",
        "                depth = 12,\n",
        "                n_classes = 5).to(device)"
      ],
      "metadata": {
        "execution": {
          "iopub.status.busy": "2024-08-12T09:12:02.439528Z",
          "iopub.execute_input": "2024-08-12T09:12:02.440090Z",
          "iopub.status.idle": "2024-08-12T09:12:03.562490Z",
          "shell.execute_reply.started": "2024-08-12T09:12:02.440059Z",
          "shell.execute_reply": "2024-08-12T09:12:03.561707Z"
        },
        "trusted": true,
        "id": "855GJJHQPmi7"
      },
      "execution_count": null,
      "outputs": []
    },
    {
      "cell_type": "code",
      "source": [
        "!pip install torchsummary\n"
      ],
      "metadata": {
        "execution": {
          "iopub.status.busy": "2024-08-12T09:12:03.563639Z",
          "iopub.execute_input": "2024-08-12T09:12:03.563937Z",
          "iopub.status.idle": "2024-08-12T09:12:15.885508Z",
          "shell.execute_reply.started": "2024-08-12T09:12:03.563912Z",
          "shell.execute_reply": "2024-08-12T09:12:15.884560Z"
        },
        "trusted": true,
        "id": "zwU3bO28Pmi8",
        "outputId": "487f241c-c967-471b-cad5-b5e6a101af64"
      },
      "execution_count": null,
      "outputs": [
        {
          "name": "stdout",
          "text": "Collecting torchsummary\n  Downloading torchsummary-1.5.1-py3-none-any.whl.metadata (296 bytes)\nDownloading torchsummary-1.5.1-py3-none-any.whl (2.8 kB)\nInstalling collected packages: torchsummary\nSuccessfully installed torchsummary-1.5.1\n",
          "output_type": "stream"
        }
      ]
    },
    {
      "cell_type": "code",
      "source": [
        "from torchsummary import summary\n",
        "print(summary(ViT(), (3,224,224), device=\"cpu\"))"
      ],
      "metadata": {
        "execution": {
          "iopub.status.busy": "2024-08-12T09:12:15.886914Z",
          "iopub.execute_input": "2024-08-12T09:12:15.887224Z",
          "iopub.status.idle": "2024-08-12T09:12:16.160618Z",
          "shell.execute_reply.started": "2024-08-12T09:12:15.887194Z",
          "shell.execute_reply": "2024-08-12T09:12:16.159691Z"
        },
        "trusted": true,
        "id": "5vF-iqUzPmi8",
        "outputId": "1a920025-2828-4383-f298-ebe6cdfb14bb"
      },
      "execution_count": null,
      "outputs": [
        {
          "name": "stdout",
          "text": "----------------------------------------------------------------\n        Layer (type)               Output Shape         Param #\n================================================================\n            Conv2d-1            [-1, 128, 7, 7]         393,344\n         Rearrange-2              [-1, 49, 128]               0\n    PatchEmbedding-3              [-1, 50, 128]               0\n         LayerNorm-4              [-1, 50, 128]             256\n            Linear-5              [-1, 50, 384]          49,536\n           Dropout-6            [-1, 8, 50, 50]               0\n            Linear-7              [-1, 50, 128]          16,512\nMultiHeadAttention-8              [-1, 50, 128]               0\n           Dropout-9              [-1, 50, 128]               0\n      ResidualAdd-10              [-1, 50, 128]               0\n        LayerNorm-11              [-1, 50, 128]             256\n           Linear-12              [-1, 50, 512]          66,048\n             GELU-13              [-1, 50, 512]               0\n          Dropout-14              [-1, 50, 512]               0\n           Linear-15              [-1, 50, 128]          65,664\n          Dropout-16              [-1, 50, 128]               0\n      ResidualAdd-17              [-1, 50, 128]               0\n        LayerNorm-18              [-1, 50, 128]             256\n           Linear-19              [-1, 50, 384]          49,536\n          Dropout-20            [-1, 8, 50, 50]               0\n           Linear-21              [-1, 50, 128]          16,512\nMultiHeadAttention-22              [-1, 50, 128]               0\n          Dropout-23              [-1, 50, 128]               0\n      ResidualAdd-24              [-1, 50, 128]               0\n        LayerNorm-25              [-1, 50, 128]             256\n           Linear-26              [-1, 50, 512]          66,048\n             GELU-27              [-1, 50, 512]               0\n          Dropout-28              [-1, 50, 512]               0\n           Linear-29              [-1, 50, 128]          65,664\n          Dropout-30              [-1, 50, 128]               0\n      ResidualAdd-31              [-1, 50, 128]               0\n        LayerNorm-32              [-1, 50, 128]             256\n           Linear-33              [-1, 50, 384]          49,536\n          Dropout-34            [-1, 8, 50, 50]               0\n           Linear-35              [-1, 50, 128]          16,512\nMultiHeadAttention-36              [-1, 50, 128]               0\n          Dropout-37              [-1, 50, 128]               0\n      ResidualAdd-38              [-1, 50, 128]               0\n        LayerNorm-39              [-1, 50, 128]             256\n           Linear-40              [-1, 50, 512]          66,048\n             GELU-41              [-1, 50, 512]               0\n          Dropout-42              [-1, 50, 512]               0\n           Linear-43              [-1, 50, 128]          65,664\n          Dropout-44              [-1, 50, 128]               0\n      ResidualAdd-45              [-1, 50, 128]               0\n        LayerNorm-46              [-1, 50, 128]             256\n           Linear-47              [-1, 50, 384]          49,536\n          Dropout-48            [-1, 8, 50, 50]               0\n           Linear-49              [-1, 50, 128]          16,512\nMultiHeadAttention-50              [-1, 50, 128]               0\n          Dropout-51              [-1, 50, 128]               0\n      ResidualAdd-52              [-1, 50, 128]               0\n        LayerNorm-53              [-1, 50, 128]             256\n           Linear-54              [-1, 50, 512]          66,048\n             GELU-55              [-1, 50, 512]               0\n          Dropout-56              [-1, 50, 512]               0\n           Linear-57              [-1, 50, 128]          65,664\n          Dropout-58              [-1, 50, 128]               0\n      ResidualAdd-59              [-1, 50, 128]               0\n        LayerNorm-60              [-1, 50, 128]             256\n           Linear-61              [-1, 50, 384]          49,536\n          Dropout-62            [-1, 8, 50, 50]               0\n           Linear-63              [-1, 50, 128]          16,512\nMultiHeadAttention-64              [-1, 50, 128]               0\n          Dropout-65              [-1, 50, 128]               0\n      ResidualAdd-66              [-1, 50, 128]               0\n        LayerNorm-67              [-1, 50, 128]             256\n           Linear-68              [-1, 50, 512]          66,048\n             GELU-69              [-1, 50, 512]               0\n          Dropout-70              [-1, 50, 512]               0\n           Linear-71              [-1, 50, 128]          65,664\n          Dropout-72              [-1, 50, 128]               0\n      ResidualAdd-73              [-1, 50, 128]               0\n        LayerNorm-74              [-1, 50, 128]             256\n           Linear-75              [-1, 50, 384]          49,536\n          Dropout-76            [-1, 8, 50, 50]               0\n           Linear-77              [-1, 50, 128]          16,512\nMultiHeadAttention-78              [-1, 50, 128]               0\n          Dropout-79              [-1, 50, 128]               0\n      ResidualAdd-80              [-1, 50, 128]               0\n        LayerNorm-81              [-1, 50, 128]             256\n           Linear-82              [-1, 50, 512]          66,048\n             GELU-83              [-1, 50, 512]               0\n          Dropout-84              [-1, 50, 512]               0\n           Linear-85              [-1, 50, 128]          65,664\n          Dropout-86              [-1, 50, 128]               0\n      ResidualAdd-87              [-1, 50, 128]               0\n        LayerNorm-88              [-1, 50, 128]             256\n           Linear-89              [-1, 50, 384]          49,536\n          Dropout-90            [-1, 8, 50, 50]               0\n           Linear-91              [-1, 50, 128]          16,512\nMultiHeadAttention-92              [-1, 50, 128]               0\n          Dropout-93              [-1, 50, 128]               0\n      ResidualAdd-94              [-1, 50, 128]               0\n        LayerNorm-95              [-1, 50, 128]             256\n           Linear-96              [-1, 50, 512]          66,048\n             GELU-97              [-1, 50, 512]               0\n          Dropout-98              [-1, 50, 512]               0\n           Linear-99              [-1, 50, 128]          65,664\n         Dropout-100              [-1, 50, 128]               0\n     ResidualAdd-101              [-1, 50, 128]               0\n       LayerNorm-102              [-1, 50, 128]             256\n          Linear-103              [-1, 50, 384]          49,536\n         Dropout-104            [-1, 8, 50, 50]               0\n          Linear-105              [-1, 50, 128]          16,512\nMultiHeadAttention-106              [-1, 50, 128]               0\n         Dropout-107              [-1, 50, 128]               0\n     ResidualAdd-108              [-1, 50, 128]               0\n       LayerNorm-109              [-1, 50, 128]             256\n          Linear-110              [-1, 50, 512]          66,048\n            GELU-111              [-1, 50, 512]               0\n         Dropout-112              [-1, 50, 512]               0\n          Linear-113              [-1, 50, 128]          65,664\n         Dropout-114              [-1, 50, 128]               0\n     ResidualAdd-115              [-1, 50, 128]               0\n       LayerNorm-116              [-1, 50, 128]             256\n          Linear-117              [-1, 50, 384]          49,536\n         Dropout-118            [-1, 8, 50, 50]               0\n          Linear-119              [-1, 50, 128]          16,512\nMultiHeadAttention-120              [-1, 50, 128]               0\n         Dropout-121              [-1, 50, 128]               0\n     ResidualAdd-122              [-1, 50, 128]               0\n       LayerNorm-123              [-1, 50, 128]             256\n          Linear-124              [-1, 50, 512]          66,048\n            GELU-125              [-1, 50, 512]               0\n         Dropout-126              [-1, 50, 512]               0\n          Linear-127              [-1, 50, 128]          65,664\n         Dropout-128              [-1, 50, 128]               0\n     ResidualAdd-129              [-1, 50, 128]               0\n       LayerNorm-130              [-1, 50, 128]             256\n          Linear-131              [-1, 50, 384]          49,536\n         Dropout-132            [-1, 8, 50, 50]               0\n          Linear-133              [-1, 50, 128]          16,512\nMultiHeadAttention-134              [-1, 50, 128]               0\n         Dropout-135              [-1, 50, 128]               0\n     ResidualAdd-136              [-1, 50, 128]               0\n       LayerNorm-137              [-1, 50, 128]             256\n          Linear-138              [-1, 50, 512]          66,048\n            GELU-139              [-1, 50, 512]               0\n         Dropout-140              [-1, 50, 512]               0\n          Linear-141              [-1, 50, 128]          65,664\n         Dropout-142              [-1, 50, 128]               0\n     ResidualAdd-143              [-1, 50, 128]               0\n       LayerNorm-144              [-1, 50, 128]             256\n          Linear-145              [-1, 50, 384]          49,536\n         Dropout-146            [-1, 8, 50, 50]               0\n          Linear-147              [-1, 50, 128]          16,512\nMultiHeadAttention-148              [-1, 50, 128]               0\n         Dropout-149              [-1, 50, 128]               0\n     ResidualAdd-150              [-1, 50, 128]               0\n       LayerNorm-151              [-1, 50, 128]             256\n          Linear-152              [-1, 50, 512]          66,048\n            GELU-153              [-1, 50, 512]               0\n         Dropout-154              [-1, 50, 512]               0\n          Linear-155              [-1, 50, 128]          65,664\n         Dropout-156              [-1, 50, 128]               0\n     ResidualAdd-157              [-1, 50, 128]               0\n       LayerNorm-158              [-1, 50, 128]             256\n          Linear-159              [-1, 50, 384]          49,536\n         Dropout-160            [-1, 8, 50, 50]               0\n          Linear-161              [-1, 50, 128]          16,512\nMultiHeadAttention-162              [-1, 50, 128]               0\n         Dropout-163              [-1, 50, 128]               0\n     ResidualAdd-164              [-1, 50, 128]               0\n       LayerNorm-165              [-1, 50, 128]             256\n          Linear-166              [-1, 50, 512]          66,048\n            GELU-167              [-1, 50, 512]               0\n         Dropout-168              [-1, 50, 512]               0\n          Linear-169              [-1, 50, 128]          65,664\n         Dropout-170              [-1, 50, 128]               0\n     ResidualAdd-171              [-1, 50, 128]               0\n          Reduce-172                  [-1, 128]               0\n       LayerNorm-173                  [-1, 128]             256\n          Linear-174                    [-1, 5]             645\n================================================================\nTotal params: 2,773,509\nTrainable params: 2,773,509\nNon-trainable params: 0\n----------------------------------------------------------------\nInput size (MB): 0.57\nForward/backward pass size (MB): 16.04\nParams size (MB): 10.58\nEstimated Total Size (MB): 27.19\n----------------------------------------------------------------\nNone\n",
          "output_type": "stream"
        }
      ]
    },
    {
      "cell_type": "code",
      "source": [
        "\n",
        "epochs = 10\n",
        "lr = 0.0001\n",
        "gamma = 0.7\n",
        "# loss function\n",
        "criterion = nn.CrossEntropyLoss()\n",
        "# optimizer\n",
        "optimizer = optim.Adam(model.parameters(), lr=lr)\n",
        "# scheduler\n",
        "scheduler = StepLR(optimizer, step_size=1, gamma=gamma)"
      ],
      "metadata": {
        "execution": {
          "iopub.status.busy": "2024-08-12T09:12:16.161791Z",
          "iopub.execute_input": "2024-08-12T09:12:16.162113Z",
          "iopub.status.idle": "2024-08-12T09:12:16.169439Z",
          "shell.execute_reply.started": "2024-08-12T09:12:16.162087Z",
          "shell.execute_reply": "2024-08-12T09:12:16.168276Z"
        },
        "trusted": true,
        "id": "gCOS3pXdPmi8"
      },
      "execution_count": null,
      "outputs": []
    },
    {
      "cell_type": "code",
      "source": [
        "\n",
        "for epoch in range(epochs):\n",
        "    epoch_loss = 0\n",
        "    epoch_accuracy = 0\n",
        "\n",
        "    for data, label in tqdm(dataloaders['train']):\n",
        "        data = data.to(device)\n",
        "        label = label.to(device)\n",
        "\n",
        "        output = model(data)\n",
        "        loss = criterion(output, label)\n",
        "\n",
        "        optimizer.zero_grad()\n",
        "        loss.backward()\n",
        "        optimizer.step()\n",
        "\n",
        "        acc = (output.argmax(dim=1) == label).float().mean()\n",
        "        epoch_accuracy += acc / len(dataloaders['train'])\n",
        "        epoch_loss += loss / len(dataloaders['train'])\n",
        "\n",
        "    with torch.no_grad():\n",
        "        epoch_val_accuracy = 0\n",
        "        epoch_val_loss = 0\n",
        "        for data, label in dataloaders['test']:\n",
        "            data = data.to(device)\n",
        "            label = label.to(device)\n",
        "\n",
        "            val_output = model(data)\n",
        "            val_loss = criterion(val_output, label)\n",
        "\n",
        "            acc = (val_output.argmax(dim=1) == label).float().mean()\n",
        "            epoch_val_accuracy += acc / len(dataloaders['test'])\n",
        "            epoch_val_loss += val_loss / len(dataloaders['test'])\n",
        "\n",
        "    print(\n",
        "        f\"Epoch : {epoch+1} - loss : {epoch_loss:.4f} - acc: {epoch_accuracy:.4f} - val_loss : {epoch_val_loss:.4f} - val_acc: {epoch_val_accuracy:.4f}\\n\"\n",
        "    )"
      ],
      "metadata": {
        "execution": {
          "iopub.status.busy": "2024-08-12T09:12:16.171552Z",
          "iopub.execute_input": "2024-08-12T09:12:16.172074Z",
          "iopub.status.idle": "2024-08-12T10:24:07.820330Z",
          "shell.execute_reply.started": "2024-08-12T09:12:16.172034Z",
          "shell.execute_reply": "2024-08-12T10:24:07.819188Z"
        },
        "trusted": true,
        "colab": {
          "referenced_widgets": [
            "558dfb4ba5314cbfb92bd0257b4ad629",
            "5b9004248b3646fe83b7aef8667c5167",
            "2861d1fb597a4391b74c824d61fc60b1",
            "e7b131549294446b8d881dbba957e744",
            "7f084c3cf38c4b238c03df75c90e47af",
            "eebcea01e43c4d4781b28afd3344596d",
            "e3332ab1afbc45e18fde977fe0c72113",
            "bef3844ead514735ac3d9b461f7b1c09",
            "158d14150180478b9a781228ae2c3f54",
            "a00762ee01f2489f905e0992cfc3f5ef"
          ]
        },
        "id": "f7baLUl6Pmi8",
        "outputId": "ec5498ce-b6c2-47d0-e02b-7b3a47bcb645"
      },
      "execution_count": null,
      "outputs": [
        {
          "output_type": "display_data",
          "data": {
            "text/plain": "  0%|          | 0/2500 [00:00<?, ?it/s]",
            "application/vnd.jupyter.widget-view+json": {
              "version_major": 2,
              "version_minor": 0,
              "model_id": "558dfb4ba5314cbfb92bd0257b4ad629"
            }
          },
          "metadata": {}
        },
        {
          "name": "stdout",
          "text": "Epoch : 1 - loss : 0.4867 - acc: 0.7840 - val_loss : 0.4238 - val_acc: 0.8124\n\n",
          "output_type": "stream"
        },
        {
          "output_type": "display_data",
          "data": {
            "text/plain": "  0%|          | 0/2500 [00:00<?, ?it/s]",
            "application/vnd.jupyter.widget-view+json": {
              "version_major": 2,
              "version_minor": 0,
              "model_id": "5b9004248b3646fe83b7aef8667c5167"
            }
          },
          "metadata": {}
        },
        {
          "name": "stdout",
          "text": "Epoch : 2 - loss : 0.3449 - acc: 0.8544 - val_loss : 0.2866 - val_acc: 0.8840\n\n",
          "output_type": "stream"
        },
        {
          "output_type": "display_data",
          "data": {
            "text/plain": "  0%|          | 0/2500 [00:00<?, ?it/s]",
            "application/vnd.jupyter.widget-view+json": {
              "version_major": 2,
              "version_minor": 0,
              "model_id": "2861d1fb597a4391b74c824d61fc60b1"
            }
          },
          "metadata": {}
        },
        {
          "name": "stdout",
          "text": "Epoch : 3 - loss : 0.3326 - acc: 0.8601 - val_loss : 0.3987 - val_acc: 0.8274\n\n",
          "output_type": "stream"
        },
        {
          "output_type": "display_data",
          "data": {
            "text/plain": "  0%|          | 0/2500 [00:00<?, ?it/s]",
            "application/vnd.jupyter.widget-view+json": {
              "version_major": 2,
              "version_minor": 0,
              "model_id": "e7b131549294446b8d881dbba957e744"
            }
          },
          "metadata": {}
        },
        {
          "name": "stdout",
          "text": "Epoch : 4 - loss : 0.3145 - acc: 0.8657 - val_loss : 0.2727 - val_acc: 0.8864\n\n",
          "output_type": "stream"
        },
        {
          "output_type": "display_data",
          "data": {
            "text/plain": "  0%|          | 0/2500 [00:00<?, ?it/s]",
            "application/vnd.jupyter.widget-view+json": {
              "version_major": 2,
              "version_minor": 0,
              "model_id": "7f084c3cf38c4b238c03df75c90e47af"
            }
          },
          "metadata": {}
        },
        {
          "name": "stdout",
          "text": "Epoch : 5 - loss : 0.3243 - acc: 0.8622 - val_loss : 0.5086 - val_acc: 0.7922\n\n",
          "output_type": "stream"
        },
        {
          "output_type": "display_data",
          "data": {
            "text/plain": "  0%|          | 0/2500 [00:00<?, ?it/s]",
            "application/vnd.jupyter.widget-view+json": {
              "version_major": 2,
              "version_minor": 0,
              "model_id": "eebcea01e43c4d4781b28afd3344596d"
            }
          },
          "metadata": {}
        },
        {
          "name": "stdout",
          "text": "Epoch : 6 - loss : 0.2984 - acc: 0.8747 - val_loss : 0.2899 - val_acc: 0.8838\n\n",
          "output_type": "stream"
        },
        {
          "output_type": "display_data",
          "data": {
            "text/plain": "  0%|          | 0/2500 [00:00<?, ?it/s]",
            "application/vnd.jupyter.widget-view+json": {
              "version_major": 2,
              "version_minor": 0,
              "model_id": "e3332ab1afbc45e18fde977fe0c72113"
            }
          },
          "metadata": {}
        },
        {
          "name": "stdout",
          "text": "Epoch : 7 - loss : 0.3213 - acc: 0.8629 - val_loss : 0.3613 - val_acc: 0.8486\n\n",
          "output_type": "stream"
        },
        {
          "output_type": "display_data",
          "data": {
            "text/plain": "  0%|          | 0/2500 [00:00<?, ?it/s]",
            "application/vnd.jupyter.widget-view+json": {
              "version_major": 2,
              "version_minor": 0,
              "model_id": "bef3844ead514735ac3d9b461f7b1c09"
            }
          },
          "metadata": {}
        },
        {
          "name": "stdout",
          "text": "Epoch : 8 - loss : 0.4346 - acc: 0.8049 - val_loss : 0.4805 - val_acc: 0.7724\n\n",
          "output_type": "stream"
        },
        {
          "output_type": "display_data",
          "data": {
            "text/plain": "  0%|          | 0/2500 [00:00<?, ?it/s]",
            "application/vnd.jupyter.widget-view+json": {
              "version_major": 2,
              "version_minor": 0,
              "model_id": "158d14150180478b9a781228ae2c3f54"
            }
          },
          "metadata": {}
        },
        {
          "name": "stdout",
          "text": "Epoch : 9 - loss : 0.3877 - acc: 0.8334 - val_loss : 0.4918 - val_acc: 0.7568\n\n",
          "output_type": "stream"
        },
        {
          "output_type": "display_data",
          "data": {
            "text/plain": "  0%|          | 0/2500 [00:00<?, ?it/s]",
            "application/vnd.jupyter.widget-view+json": {
              "version_major": 2,
              "version_minor": 0,
              "model_id": "a00762ee01f2489f905e0992cfc3f5ef"
            }
          },
          "metadata": {}
        },
        {
          "name": "stdout",
          "text": "Epoch : 10 - loss : 0.3666 - acc: 0.8422 - val_loss : 0.3461 - val_acc: 0.8486\n\n",
          "output_type": "stream"
        }
      ]
    },
    {
      "cell_type": "code",
      "source": [
        "import torch\n",
        "from sklearn.metrics import confusion_matrix, classification_report\n",
        "import numpy as np\n",
        "\n",
        "model.eval()\n",
        "\n",
        "all_test_labels = []\n",
        "all_test_preds = []\n",
        "\n",
        "with torch.no_grad():\n",
        "    for data, label in dataloaders['test']:\n",
        "        data = data.to(device)\n",
        "        label = label.to(device)\n",
        "\n",
        "\n",
        "        output = model(data)\n",
        "        preds = output.argmax(dim=1)\n",
        "\n",
        "        all_test_labels.extend(label.cpu().numpy())\n",
        "        all_test_preds.extend(preds.cpu().numpy())\n",
        "\n",
        "\n",
        "test_labels_np = np.array(all_test_labels)\n",
        "test_preds_np = np.array(all_test_preds)\n",
        "\n"
      ],
      "metadata": {
        "execution": {
          "iopub.status.busy": "2024-08-12T10:24:07.822050Z",
          "iopub.execute_input": "2024-08-12T10:24:07.822394Z",
          "iopub.status.idle": "2024-08-12T10:24:42.646282Z",
          "shell.execute_reply.started": "2024-08-12T10:24:07.822358Z",
          "shell.execute_reply": "2024-08-12T10:24:42.644562Z"
        },
        "trusted": true,
        "id": "z7godRrbPmi8"
      },
      "execution_count": null,
      "outputs": []
    },
    {
      "cell_type": "code",
      "source": [
        "unique_values, counts = np.unique(test_preds_np, return_counts=True)\n",
        "\n",
        "print(\"Unique values:\", unique_values)\n",
        "print(\"Counts:\", counts)"
      ],
      "metadata": {
        "execution": {
          "iopub.status.busy": "2024-08-12T10:41:56.403451Z",
          "iopub.execute_input": "2024-08-12T10:41:56.403835Z",
          "iopub.status.idle": "2024-08-12T10:41:56.410430Z",
          "shell.execute_reply.started": "2024-08-12T10:41:56.403803Z",
          "shell.execute_reply": "2024-08-12T10:41:56.409361Z"
        },
        "trusted": true,
        "id": "mGgQHEh9Pmi9",
        "outputId": "61976e09-7911-48a8-c350-aed8774c0a79"
      },
      "execution_count": null,
      "outputs": [
        {
          "name": "stdout",
          "text": "Unique values: [0 1 2 3 4]\nCounts: [1309  656  857 1051 1127]\n",
          "output_type": "stream"
        }
      ]
    },
    {
      "cell_type": "code",
      "source": [
        "test_preds_np"
      ],
      "metadata": {
        "execution": {
          "iopub.status.busy": "2024-08-12T10:40:50.031173Z",
          "iopub.execute_input": "2024-08-12T10:40:50.031550Z",
          "iopub.status.idle": "2024-08-12T10:40:50.038054Z",
          "shell.execute_reply.started": "2024-08-12T10:40:50.031519Z",
          "shell.execute_reply": "2024-08-12T10:40:50.037149Z"
        },
        "trusted": true,
        "id": "lP6c9tt-Pmi9",
        "outputId": "f0123e8e-232f-4bbe-b009-ea74936b66cb"
      },
      "execution_count": null,
      "outputs": [
        {
          "execution_count": 27,
          "output_type": "execute_result",
          "data": {
            "text/plain": "array([2, 0, 0, ..., 1, 2, 1])"
          },
          "metadata": {}
        }
      ]
    },
    {
      "cell_type": "code",
      "source": [
        "class_names=['colon_aca', 'colon_n', 'lung_aca', 'lung_n', 'lung_scc']"
      ],
      "metadata": {
        "execution": {
          "iopub.status.busy": "2024-08-12T10:43:02.103888Z",
          "iopub.execute_input": "2024-08-12T10:43:02.104251Z",
          "iopub.status.idle": "2024-08-12T10:43:02.108645Z",
          "shell.execute_reply.started": "2024-08-12T10:43:02.104218Z",
          "shell.execute_reply": "2024-08-12T10:43:02.107632Z"
        },
        "trusted": true,
        "id": "pNVwwakbPmi9"
      },
      "execution_count": null,
      "outputs": []
    },
    {
      "cell_type": "code",
      "source": [
        "import numpy as np\n",
        "import seaborn as sns\n",
        "import matplotlib.pyplot as plt\n",
        "from sklearn.metrics import confusion_matrix\n",
        "\n",
        "\n",
        "class_names = ['colon_aca', 'colon_n', 'lung_aca', 'lung_n', 'lung_scc']\n",
        "\n",
        "label_mapping = {i: name for i, name in enumerate(class_names)}\n",
        "\n",
        "test_labels_str = np.array([label_mapping[label] for label in test_labels_np])\n",
        "test_preds_str = np.array([label_mapping[label] for label in test_preds_np])\n",
        "\n",
        "test_confusion_matrix = confusion_matrix(test_labels_str, test_preds_str, labels=class_names)\n",
        "\n",
        "plt.figure(figsize=(10, 7))\n",
        "sns.heatmap(test_confusion_matrix, annot=True, fmt='d', cmap='Blues', xticklabels=class_names, yticklabels=class_names)\n",
        "plt.xlabel('Predicted Labels')\n",
        "plt.ylabel('True Labels')\n",
        "plt.title('Confusion Matrix Heatmap')\n",
        "plt.show()\n"
      ],
      "metadata": {
        "execution": {
          "iopub.status.busy": "2024-08-12T10:44:57.314981Z",
          "iopub.execute_input": "2024-08-12T10:44:57.315349Z",
          "iopub.status.idle": "2024-08-12T10:44:57.887156Z",
          "shell.execute_reply.started": "2024-08-12T10:44:57.315319Z",
          "shell.execute_reply": "2024-08-12T10:44:57.886233Z"
        },
        "trusted": true,
        "id": "jQsEAEQhPmi9",
        "outputId": "0dd1fa5b-21cb-43a7-ea80-8b30b77ba744"
      },
      "execution_count": null,
      "outputs": [
        {
          "output_type": "display_data",
          "data": {
            "text/plain": "<Figure size 1000x700 with 2 Axes>",
            "image/png": "[encoded data removed]"
          },
          "metadata": {}
        }
      ]
    },
    {
      "cell_type": "code",
      "source": [
        "class_report = classification_report(test_labels_str, test_preds_str, target_names=class_names)\n",
        "print(\"Classification Report:\")\n",
        "print(class_report)"
      ],
      "metadata": {
        "execution": {
          "iopub.status.busy": "2024-08-12T10:45:25.119341Z",
          "iopub.execute_input": "2024-08-12T10:45:25.119706Z",
          "iopub.status.idle": "2024-08-12T10:45:25.190918Z",
          "shell.execute_reply.started": "2024-08-12T10:45:25.119677Z",
          "shell.execute_reply": "2024-08-12T10:45:25.189997Z"
        },
        "trusted": true,
        "id": "AlS7CfMUPmi9",
        "outputId": "14cbd380-02f2-44f8-bc7e-58eb87f486db"
      },
      "execution_count": null,
      "outputs": [
        {
          "name": "stdout",
          "text": "Classification Report:\n              precision    recall  f1-score   support\n\n   colon_aca       0.71      0.93      0.81      1008\n     colon_n       0.90      0.59      0.71       997\n    lung_aca       0.92      0.79      0.85       992\n      lung_n       0.94      1.00      0.97       988\n    lung_scc       0.84      0.93      0.88      1015\n\n    accuracy                           0.85      5000\n   macro avg       0.86      0.85      0.84      5000\nweighted avg       0.86      0.85      0.84      5000\n\n",
          "output_type": "stream"
        }
      ]
    },
    {
      "cell_type": "code",
      "source": [
        "import torch\n",
        "\n",
        "torch.save(model.state_dict(), 'model_weights.pth')\n",
        "torch.save(model, 'full_model.pth')"
      ],
      "metadata": {
        "execution": {
          "iopub.status.busy": "2024-08-12T10:45:33.610013Z",
          "iopub.execute_input": "2024-08-12T10:45:33.610345Z",
          "iopub.status.idle": "2024-08-12T10:45:34.504216Z",
          "shell.execute_reply.started": "2024-08-12T10:45:33.610320Z",
          "shell.execute_reply": "2024-08-12T10:45:34.503191Z"
        },
        "trusted": true,
        "id": "D4a-_4p7Pmi-"
      },
      "execution_count": null,
      "outputs": []
    }
  ]
}